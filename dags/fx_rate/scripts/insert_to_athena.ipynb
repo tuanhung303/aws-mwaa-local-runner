{
 "cells": [
  {
   "cell_type": "code",
   "execution_count": 4,
   "metadata": {},
   "outputs": [],
   "source": [
    "import os\n",
    "import duckdb\n",
    "import time\n",
    "from dotenv import load_dotenv\n",
    "from sql_stm import DUCKDB_CONF\n",
    "import boto3\n",
    "load_dotenv()\n",
    "conn = duckdb.connect()\n",
    "client = boto3.client(\"athena\")\n",
    "\n",
    "conf = {\n",
    "        \"host\": os.getenv(\"host\"),\n",
    "        \"port\": 3306,\n",
    "        \"user\": os.getenv(\"user\"),\n",
    "        \"password\": os.getenv(\"password\"),\n",
    "        \"database\": \"demo_db\",\n",
    "    }\n",
    "conn.query(DUCKDB_CONF.format(**conf))"
   ]
  },
  {
   "cell_type": "code",
   "execution_count": 5,
   "metadata": {},
   "outputs": [
    {
     "name": "stdout",
     "output_type": "stream",
     "text": [
      "344\n"
     ]
    }
   ],
   "source": [
    "df_count = conn.query(\"select count(*) from demo_db.exchange_rate\").df()\n",
    "total_rows = df_count.iloc[0, 0]\n",
    "print(total_rows)"
   ]
  },
  {
   "cell_type": "code",
   "execution_count": 6,
   "metadata": {},
   "outputs": [
    {
     "name": "stdout",
     "output_type": "stream",
     "text": [
      "Query 220a69db-1a09-45ec-a3c7-b79fc41326c1 submitted, batch 0 to 100\n",
      "Query 220a69db-1a09-45ec-a3c7-b79fc41326c1 succeeded\n",
      "Batch 100 completed\n",
      "Query 099111bc-16e0-48c7-aa17-be1fa282db51 submitted, batch 100 to 200\n",
      "Query 099111bc-16e0-48c7-aa17-be1fa282db51 succeeded\n",
      "Batch 200 completed\n",
      "Query c78e0966-01d2-47fc-bf45-aaabf80ab229 submitted, batch 200 to 300\n",
      "Query c78e0966-01d2-47fc-bf45-aaabf80ab229 succeeded\n",
      "Batch 300 completed\n",
      "Query d4e3526d-2f8c-473d-a39e-08ffffdbc5cc submitted, batch 300 to 400\n",
      "Query d4e3526d-2f8c-473d-a39e-08ffffdbc5cc succeeded\n",
      "Batch 400 completed\n"
     ]
    }
   ],
   "source": [
    "query_template = \"\"\"\n",
    "insert into awsdatacatalog.raw.exchange_rate (num_code, char_code, unit, currency, rate, business_date, surrogate_key, primary_key, partition_name)\n",
    "select\n",
    "num_code, char_code, unit, currency, rate, business_date, surrogate_key, primary_key, partition_name\n",
    "from Finance.demo_db.exchange_rate a\n",
    "where not exists(select 1 from awsdatacatalog.raw.exchange_rate b where b.surrogate_key = a.surrogate_key)\n",
    "order by surrogate_key\n",
    "limit {limit}\n",
    "\"\"\"\n",
    "# run query for batch with 200 records each\n",
    "batch = 0\n",
    "limit = 100\n",
    "def execute_query_with_batch(query_template, batch, limit):\n",
    "    qry_stm = query_template.format(business_date=\"{business_date}\", limit=limit)\n",
    "    res = client.start_query_execution(QueryString=qry_stm, QueryExecutionContext={\"Database\": \"awsdatacatalog\"})\n",
    "    query_id = res[\"QueryExecutionId\"]\n",
    "    print(f\"Query {query_id} submitted, batch {batch} to {batch + limit}\")\n",
    "    while not client.get_query_execution(QueryExecutionId=query_id)[\"QueryExecution\"][\"Status\"][\"State\"] in [\"SUCCEEDED\"]:\n",
    "        time.sleep(1)\n",
    "    print(f\"Query {query_id} succeeded\")\n",
    "\n",
    "while batch <= total_rows:\n",
    "    execute_query_with_batch(query_template, batch, limit)\n",
    "    batch += limit\n",
    "    print(f\"Batch {batch} completed\")"
   ]
  },
  {
   "cell_type": "code",
   "execution_count": null,
   "metadata": {},
   "outputs": [],
   "source": []
  }
 ],
 "metadata": {
  "kernelspec": {
   "display_name": "Python 3",
   "language": "python",
   "name": "python3"
  },
  "language_info": {
   "codemirror_mode": {
    "name": "ipython",
    "version": 3
   },
   "file_extension": ".py",
   "mimetype": "text/x-python",
   "name": "python",
   "nbconvert_exporter": "python",
   "pygments_lexer": "ipython3",
   "version": "3.12.5"
  }
 },
 "nbformat": 4,
 "nbformat_minor": 2
}
